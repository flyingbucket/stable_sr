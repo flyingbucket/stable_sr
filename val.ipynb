{
 "cells": [
  {
   "cell_type": "code",
   "execution_count": 9,
   "id": "f024643d",
   "metadata": {},
   "outputs": [
    {
     "data": {
      "text/plain": [
       "Index(['img', 'mode', 'psnr', 'ssim', 'lpips', 'enl', 'epi'], dtype='object')"
      ]
     },
     "execution_count": 9,
     "metadata": {},
     "output_type": "execute_result"
    }
   ],
   "source": [
    "import pandas as pd\n",
    "import numpy as np\n",
    "import matplotlib.pyplot as plt\n",
    "df_256=pd.read_csv(\"eval_256/W_KL_SO_256/epoch=000023/DDPM_200_WaveletSRDataset.csv\")\n",
    "df_256.columns"
   ]
  },
  {
   "cell_type": "code",
   "execution_count": 11,
   "id": "812a7967",
   "metadata": {},
   "outputs": [
    {
     "data": {
      "text/html": [
       "<div>\n",
       "<style scoped>\n",
       "    .dataframe tbody tr th:only-of-type {\n",
       "        vertical-align: middle;\n",
       "    }\n",
       "\n",
       "    .dataframe tbody tr th {\n",
       "        vertical-align: top;\n",
       "    }\n",
       "\n",
       "    .dataframe thead th {\n",
       "        text-align: right;\n",
       "    }\n",
       "</style>\n",
       "<table border=\"1\" class=\"dataframe\">\n",
       "  <thead>\n",
       "    <tr style=\"text-align: right;\">\n",
       "      <th></th>\n",
       "      <th>img</th>\n",
       "      <th>mode</th>\n",
       "      <th>psnr</th>\n",
       "      <th>ssim</th>\n",
       "      <th>lpips</th>\n",
       "      <th>enl</th>\n",
       "      <th>epi</th>\n",
       "    </tr>\n",
       "  </thead>\n",
       "  <tbody>\n",
       "    <tr>\n",
       "      <th>427</th>\n",
       "      <td>2937.jpg</td>\n",
       "      <td>DDPM</td>\n",
       "      <td>21.198486</td>\n",
       "      <td>0.340707</td>\n",
       "      <td>0.539908</td>\n",
       "      <td>12.657431</td>\n",
       "      <td>0.329549</td>\n",
       "    </tr>\n",
       "    <tr>\n",
       "      <th>387</th>\n",
       "      <td>2731.jpg</td>\n",
       "      <td>DDPM</td>\n",
       "      <td>20.633318</td>\n",
       "      <td>0.296619</td>\n",
       "      <td>0.554716</td>\n",
       "      <td>10.666902</td>\n",
       "      <td>0.302687</td>\n",
       "    </tr>\n",
       "    <tr>\n",
       "      <th>948</th>\n",
       "      <td>5287.jpg</td>\n",
       "      <td>DDPM</td>\n",
       "      <td>20.597338</td>\n",
       "      <td>0.323734</td>\n",
       "      <td>0.563920</td>\n",
       "      <td>7.149099</td>\n",
       "      <td>0.330100</td>\n",
       "    </tr>\n",
       "    <tr>\n",
       "      <th>658</th>\n",
       "      <td>4000.jpg</td>\n",
       "      <td>DDPM</td>\n",
       "      <td>20.560141</td>\n",
       "      <td>0.293681</td>\n",
       "      <td>0.555895</td>\n",
       "      <td>8.915745</td>\n",
       "      <td>0.294199</td>\n",
       "    </tr>\n",
       "    <tr>\n",
       "      <th>628</th>\n",
       "      <td>3894.jpg</td>\n",
       "      <td>DDPM</td>\n",
       "      <td>20.459854</td>\n",
       "      <td>0.289769</td>\n",
       "      <td>0.548938</td>\n",
       "      <td>11.514562</td>\n",
       "      <td>0.278641</td>\n",
       "    </tr>\n",
       "    <tr>\n",
       "      <th>429</th>\n",
       "      <td>2942.jpg</td>\n",
       "      <td>DDPM</td>\n",
       "      <td>20.424039</td>\n",
       "      <td>0.270153</td>\n",
       "      <td>0.596474</td>\n",
       "      <td>6.762282</td>\n",
       "      <td>0.306474</td>\n",
       "    </tr>\n",
       "    <tr>\n",
       "      <th>451</th>\n",
       "      <td>3052.jpg</td>\n",
       "      <td>DDPM</td>\n",
       "      <td>20.287314</td>\n",
       "      <td>0.285782</td>\n",
       "      <td>0.568061</td>\n",
       "      <td>8.504578</td>\n",
       "      <td>0.323006</td>\n",
       "    </tr>\n",
       "    <tr>\n",
       "      <th>101</th>\n",
       "      <td>1442.jpg</td>\n",
       "      <td>DDPM</td>\n",
       "      <td>20.281064</td>\n",
       "      <td>0.247922</td>\n",
       "      <td>0.555102</td>\n",
       "      <td>6.246891</td>\n",
       "      <td>0.184427</td>\n",
       "    </tr>\n",
       "    <tr>\n",
       "      <th>511</th>\n",
       "      <td>3344.jpg</td>\n",
       "      <td>DDPM</td>\n",
       "      <td>20.115092</td>\n",
       "      <td>0.344689</td>\n",
       "      <td>0.560752</td>\n",
       "      <td>7.626002</td>\n",
       "      <td>0.368780</td>\n",
       "    </tr>\n",
       "    <tr>\n",
       "      <th>428</th>\n",
       "      <td>2940.jpg</td>\n",
       "      <td>DDPM</td>\n",
       "      <td>20.064755</td>\n",
       "      <td>0.273776</td>\n",
       "      <td>0.555162</td>\n",
       "      <td>10.510164</td>\n",
       "      <td>0.322586</td>\n",
       "    </tr>\n",
       "  </tbody>\n",
       "</table>\n",
       "</div>"
      ],
      "text/plain": [
       "          img  mode       psnr      ssim     lpips        enl       epi\n",
       "427  2937.jpg  DDPM  21.198486  0.340707  0.539908  12.657431  0.329549\n",
       "387  2731.jpg  DDPM  20.633318  0.296619  0.554716  10.666902  0.302687\n",
       "948  5287.jpg  DDPM  20.597338  0.323734  0.563920   7.149099  0.330100\n",
       "658  4000.jpg  DDPM  20.560141  0.293681  0.555895   8.915745  0.294199\n",
       "628  3894.jpg  DDPM  20.459854  0.289769  0.548938  11.514562  0.278641\n",
       "429  2942.jpg  DDPM  20.424039  0.270153  0.596474   6.762282  0.306474\n",
       "451  3052.jpg  DDPM  20.287314  0.285782  0.568061   8.504578  0.323006\n",
       "101  1442.jpg  DDPM  20.281064  0.247922  0.555102   6.246891  0.184427\n",
       "511  3344.jpg  DDPM  20.115092  0.344689  0.560752   7.626002  0.368780\n",
       "428  2940.jpg  DDPM  20.064755  0.273776  0.555162  10.510164  0.322586"
      ]
     },
     "execution_count": 11,
     "metadata": {},
     "output_type": "execute_result"
    }
   ],
   "source": [
    "df_256.sort_values(by=\"psnr\",ascending=False).head(10)"
   ]
  },
  {
   "cell_type": "code",
   "execution_count": 12,
   "id": "edca51e4",
   "metadata": {},
   "outputs": [
    {
     "data": {
      "text/plain": [
       "Text(0.5, 1.0, 'KDE of PSNR')"
      ]
     },
     "execution_count": 12,
     "metadata": {},
     "output_type": "execute_result"
    },
    {
     "data": {
      "image/png": "[encoded data removed]",
      "text/plain": [
       "<Figure size 640x480 with 1 Axes>"
      ]
     },
     "metadata": {},
     "output_type": "display_data"
    }
   ],
   "source": [
    "from scipy.stats import gaussian_kde\n",
    "psnr=df_256['psnr']\n",
    "psnr_array=np.array(psnr)\n",
    "fig_psnr,ax=plt.subplots()\n",
    "kde = gaussian_kde(psnr_array)\n",
    "x_range = np.linspace(psnr_array.min(), psnr_array.max(), 200)\n",
    "ax.fill_between(x_range, kde(x_range), alpha=0.5)\n",
    "ax.plot(x_range, kde(x_range))\n",
    "ax.set_title(\"KDE of PSNR\")\n"
   ]
  },
  {
   "cell_type": "code",
   "execution_count": null,
   "id": "e14a3f7b",
   "metadata": {},
   "outputs": [],
   "source": []
  }
 ],
 "metadata": {
  "kernelspec": {
   "display_name": "stablesr",
   "language": "python",
   "name": "python3"
  },
  "language_info": {
   "codemirror_mode": {
    "name": "ipython",
    "version": 3
   },
   "file_extension": ".py",
   "mimetype": "text/x-python",
   "name": "python",
   "nbconvert_exporter": "python",
   "pygments_lexer": "ipython3",
   "version": "3.9.23"
  }
 },
 "nbformat": 4,
 "nbformat_minor": 5
}
